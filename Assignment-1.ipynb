{
 "cells": [
  {
   "cell_type": "markdown",
   "metadata": {},
   "source": [
    "                                        ASSIGNMENT 1"
   ]
  },
  {
   "cell_type": "markdown",
   "metadata": {},
   "source": [
    "QUE 1: Write a programe to print the following string  in a speciic formatz\n",
    "        Twinkel twinkel little star\n",
    "            how i wonder what you are \n",
    "                up above the world so high\n",
    "\n",
    "                Like a diamond in the sky.\n",
    "         Twinkel twinkel little star\n",
    "            how i wonder what you are          "
   ]
  },
  {
   "cell_type": "code",
   "execution_count": null,
   "metadata": {},
   "outputs": [
    {
     "name": "stdout",
     "output_type": "stream",
     "text": [
      "Twinkle, twinkle, little star, \n",
      "\tHow I wonder what you are! \n",
      "\t\tUp above the world so high, \n",
      "\t\tLike a diamond in the sky. \n",
      "Twinkle, twinkle, little star, \n",
      "\tHow I wonder what you are!\n"
     ]
    }
   ],
   "source": [
    "print(\"Twinkle, twinkle, little star, \\n\\tHow I wonder what you are! \\n\\t\\tUp above the world so high, \\n\\t\\tLike a diamond in the sky. \\nTwinkle, twinkle, little star, \\n\\tHow I wonder what you are!\")\n",
    "\n"
   ]
  },
  {
   "cell_type": "markdown",
   "metadata": {},
   "source": [
    "QUE 2:-Write a python programe,which accept the radius of a circle from the user and compute the area"
   ]
  },
  {
   "cell_type": "code",
   "execution_count": 8,
   "metadata": {},
   "outputs": [
    {
     "name": "stdout",
     "output_type": "stream",
     "text": [
      "Area o the circle with radius 6.0 is:- 113.04\n"
     ]
    }
   ],
   "source": [
    "\n",
    "Radius=float(input(\"enter the radius of circle:-\"))\n",
    "area = Radius** 2 * 3.14\n",
    "   \n",
    "print (\"Area o the circle with radius\",Radius,\"is:-\",area)"
   ]
  },
  {
   "cell_type": "markdown",
   "metadata": {},
   "source": [
    "QUE 3:- consider the given scenario One extra large 18 degree pizza costs as much as two medium 12 degree pizzas.if i want to get the most pizza possible should i buy one 18 degree pizza or the two 12 degree pizzas?\n",
    "\n",
    "1. calcutale the area of the extra large pizza and area of medium pizzza.area of both pizza can be compaired and the greatest pizza can be bought."
   ]
  },
  {
   "cell_type": "code",
   "execution_count": 8,
   "metadata": {},
   "outputs": [
    {
     "name": "stdout",
     "output_type": "stream",
     "text": [
      "Medium Pizza:- 452.16\n",
      "Large pizza:- 1017.36\n",
      "Large pizza is profitable\n"
     ]
    }
   ],
   "source": [
    "Medium_Pizza=3.14*(12*12)\n",
    "Large_pizza=3.14*(18*18)\n",
    "medium_pizza_2=Medium_Pizza*2\n",
    "print(\"Medium Pizza:-\", Medium_Pizza)\n",
    "print(\"Large pizza:-\" ,Large_pizza)\n",
    "if(Large_pizza>medium_pizza_2):\n",
    "    print(\"Large pizza is profitable\")\n",
    "else:\n",
    "    print(\"Medium pizza is profitable\")\n",
    "\n",
    "\n"
   ]
  }
 ],
 "metadata": {
  "kernelspec": {
   "display_name": "Python 3.10.7 64-bit",
   "language": "python",
   "name": "python3"
  },
  "language_info": {
   "codemirror_mode": {
    "name": "ipython",
    "version": 3
   },
   "file_extension": ".py",
   "mimetype": "text/x-python",
   "name": "python",
   "nbconvert_exporter": "python",
   "pygments_lexer": "ipython3",
   "version": "3.10.7"
  },
  "orig_nbformat": 4,
  "vscode": {
   "interpreter": {
    "hash": "49bb8d6b5070a5d55bf02ebd564ef1f2cd102c05393e2cd9154b2c8caab561c9"
   }
  }
 },
 "nbformat": 4,
 "nbformat_minor": 2
}
